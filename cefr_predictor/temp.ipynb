{
 "cells": [
  {
   "cell_type": "code",
   "execution_count": 5,
   "metadata": {},
   "outputs": [],
   "source": [
    "from preprocessing import generate_features, preprocess_text\n",
    "import pandas as pd\n",
    "import swifter"
   ]
  },
  {
   "cell_type": "code",
   "execution_count": null,
   "metadata": {},
   "outputs": [
    {
     "name": "stderr",
     "output_type": "stream",
     "text": [
      "Pandas Apply: 100%|██████████| 1494/1494 [03:10<00:00,  7.85it/s]\n"
     ]
    }
   ],
   "source": [
    "df = pd.read_csv(\"../data/cefr_leveled_texts.csv\")\n",
    "\n",
    "datapoints = df[\"text\"].swifter.apply(preprocess_text)\n",
    "print(datapoints.head())"
   ]
  },
  {
   "cell_type": "code",
   "execution_count": 11,
   "metadata": {},
   "outputs": [
    {
     "name": "stderr",
     "output_type": "stream",
     "text": [
      "Pandas Apply: 100%|██████████| 1494/1494 [00:00<00:00, 302237.50it/s]"
     ]
    },
    {
     "name": "stdout",
     "output_type": "stream",
     "text": [
      "0    [86.74, 8.4, 5.7, 5.57, 6.7, 6.51, 34, 8.66666...\n",
      "1    [67.59, 10.6, 8.9, 9.57, 10.9, 7.99, 111, 8.66...\n",
      "2    [71.14, 8.8, 7.6, 8.35, 8.5, 8.06, 35, 7.42857...\n",
      "3    [53.1, 13.1, 10.3, 10.15, 10.4, 9.11, 62, 10.6...\n",
      "4    [60.85, 10.9, 9.4, 10.15, 10.6, 9.66, 71, 12.8...\n",
      "Name: text, dtype: object\n"
     ]
    },
    {
     "name": "stderr",
     "output_type": "stream",
     "text": [
      "\n"
     ]
    }
   ],
   "source": [
    "columns = list(datapoints[0].keys())\n",
    "\n",
    "values = datapoints.swifter.apply(lambda x: list(x.values()))\n",
    "print(values.head())"
   ]
  },
  {
   "cell_type": "code",
   "execution_count": 13,
   "metadata": {},
   "outputs": [
    {
     "name": "stdout",
     "output_type": "stream",
     "text": [
      "   flesch_reading_ease  smog_index  flesch_kincaid_grade  coleman_liau_index  \\\n",
      "0                86.74         8.4                   5.7                5.57   \n",
      "1                67.59        10.6                   8.9                9.57   \n",
      "2                71.14         8.8                   7.6                8.35   \n",
      "3                53.10        13.1                  10.3               10.15   \n",
      "4                60.85        10.9                   9.4               10.15   \n",
      "\n",
      "   automated_readability_index  dale_chall_readability_score  difficult_words  \\\n",
      "0                          6.7                          6.51             34.0   \n",
      "1                         10.9                          7.99            111.0   \n",
      "2                          8.5                          8.06             35.0   \n",
      "3                         10.4                          9.11             62.0   \n",
      "4                         10.6                          9.66             71.0   \n",
      "\n",
      "   linsear_write_formula  gunning_fog  text_standard  ...  mean_num  \\\n",
      "0               8.666667         8.11            6.0  ...      0.20   \n",
      "1               8.666667        10.92           11.0  ...      0.42   \n",
      "2               7.428571         8.65            9.0  ...      0.43   \n",
      "3              10.666667        11.93           10.0  ...      0.82   \n",
      "4              12.800000        10.10           11.0  ...      0.32   \n",
      "\n",
      "   mean_part  mean_pron  mean_propn  mean_punct  mean_sconj  mean_sym  \\\n",
      "0       0.96       2.40        0.96        0.08        0.60      0.00   \n",
      "1       1.24       1.76        0.36        0.42        0.55      0.00   \n",
      "2       0.71       0.71        2.57        0.00        0.29      0.00   \n",
      "3       0.53       0.76        1.88        0.00        0.24      0.06   \n",
      "4       0.37       0.63        4.32        0.00        0.37      0.00   \n",
      "\n",
      "   mean_verb  mean_x  mean_space  \n",
      "0       2.44     0.0        1.00  \n",
      "1       3.24     0.0        1.00  \n",
      "2       2.00     0.0        0.93  \n",
      "3       1.82     0.0        0.94  \n",
      "4       2.11     0.0        1.00  \n",
      "\n",
      "[5 rows x 31 columns]\n"
     ]
    }
   ],
   "source": [
    "value_rows = [pd.Series(value, index=columns) for value in values]\n",
    "\n",
    "data_df = pd.DataFrame(value_rows)\n",
    "print(data_df.head())"
   ]
  },
  {
   "cell_type": "code",
   "execution_count": 17,
   "metadata": {},
   "outputs": [
    {
     "name": "stderr",
     "output_type": "stream",
     "text": [
      "Pandas Apply: 100%|██████████| 1494/1494 [00:00<00:00, 1617524.57it/s]"
     ]
    },
    {
     "name": "stdout",
     "output_type": "stream",
     "text": [
      "   flesch_reading_ease  smog_index  flesch_kincaid_grade  coleman_liau_index  \\\n",
      "0                86.74         8.4                   5.7                5.57   \n",
      "1                67.59        10.6                   8.9                9.57   \n",
      "2                71.14         8.8                   7.6                8.35   \n",
      "3                53.10        13.1                  10.3               10.15   \n",
      "4                60.85        10.9                   9.4               10.15   \n",
      "\n",
      "   automated_readability_index  dale_chall_readability_score  difficult_words  \\\n",
      "0                          6.7                          6.51             34.0   \n",
      "1                         10.9                          7.99            111.0   \n",
      "2                          8.5                          8.06             35.0   \n",
      "3                         10.4                          9.11             62.0   \n",
      "4                         10.6                          9.66             71.0   \n",
      "\n",
      "   linsear_write_formula  gunning_fog  text_standard  ...  mean_pron  \\\n",
      "0               8.666667         8.11            6.0  ...       2.40   \n",
      "1               8.666667        10.92           11.0  ...       1.76   \n",
      "2               7.428571         8.65            9.0  ...       0.71   \n",
      "3              10.666667        11.93           10.0  ...       0.76   \n",
      "4              12.800000        10.10           11.0  ...       0.63   \n",
      "\n",
      "   mean_propn  mean_punct  mean_sconj  mean_sym  mean_verb  mean_x  \\\n",
      "0        0.96        0.08        0.60      0.00       2.44     0.0   \n",
      "1        0.36        0.42        0.55      0.00       3.24     0.0   \n",
      "2        2.57        0.00        0.29      0.00       2.00     0.0   \n",
      "3        1.88        0.00        0.24      0.06       1.82     0.0   \n",
      "4        4.32        0.00        0.37      0.00       2.11     0.0   \n",
      "\n",
      "   mean_space  label  label_num  \n",
      "0        1.00     B2          3  \n",
      "1        1.00     B2          3  \n",
      "2        0.93     B2          3  \n",
      "3        0.94     B2          3  \n",
      "4        1.00     B2          3  \n",
      "\n",
      "[5 rows x 33 columns]\n"
     ]
    },
    {
     "name": "stderr",
     "output_type": "stream",
     "text": [
      "\n"
     ]
    }
   ],
   "source": [
    "data_df[\"label\"] = df[\"label\"]\n",
    "data_df[\"label_num\"] = data_df[\"label\"].swifter.apply(lambda x: 0 if x == \"A1\" else 1 if x == \"A2\" else 2 if x == \"B1\" else 3 if x == \"B2\" else 4 if x == \"C1\" else 5)\n",
    "print(data_df.head())"
   ]
  },
  {
   "cell_type": "code",
   "execution_count": 18,
   "metadata": {},
   "outputs": [],
   "source": [
    "data_df.to_csv(\"tempdata.csv\")"
   ]
  },
  {
   "cell_type": "code",
   "execution_count": null,
   "metadata": {},
   "outputs": [],
   "source": []
  }
 ],
 "metadata": {
  "kernelspec": {
   "display_name": "venv",
   "language": "python",
   "name": "python3"
  },
  "language_info": {
   "codemirror_mode": {
    "name": "ipython",
    "version": 3
   },
   "file_extension": ".py",
   "mimetype": "text/x-python",
   "name": "python",
   "nbconvert_exporter": "python",
   "pygments_lexer": "ipython3",
   "version": "3.12.7"
  }
 },
 "nbformat": 4,
 "nbformat_minor": 2
}
